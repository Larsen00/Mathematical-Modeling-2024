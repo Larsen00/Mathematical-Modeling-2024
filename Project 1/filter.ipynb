{
 "cells": [
  {
   "cell_type": "code",
   "execution_count": null,
   "metadata": {},
   "outputs": [],
   "source": [
    "import glob\n",
    "import skimage\n",
    "import matplotlib.pyplot as plt\n",
    "import numpy as np\n",
    "import scipy\n",
    "import random\n",
    "pngs = glob.glob('toyProblem_F22/frame_*.png')"
   ]
  },
  {
   "cell_type": "markdown",
   "metadata": {},
   "source": [
    "## Problem 1 - Loading and displaying a toy problem:"
   ]
  },
  {
   "cell_type": "code",
   "execution_count": null,
   "metadata": {},
   "outputs": [],
   "source": [
    "# make image list\n",
    "ims = [skimage.color.rgb2gray(plt.imread(i)) for i in pngs]\n",
    "\n",
    "# make image array\n",
    "V = np.dstack(ims)\n",
    "V.shape"
   ]
  },
  {
   "cell_type": "code",
   "execution_count": null,
   "metadata": {},
   "outputs": [],
   "source": [
    "# animation of images\n",
    "# %matplotlib qt\n",
    "# for im in ims:\n",
    "#     plt.imshow(im, cmap='gray')\n",
    "#     plt.pause(0.1)\n",
    "# %matplotlib inline"
   ]
  },
  {
   "cell_type": "markdown",
   "metadata": {},
   "source": [
    "## Problem 2.1 - Low level gradient calculation:"
   ]
  },
  {
   "cell_type": "code",
   "execution_count": null,
   "metadata": {},
   "outputs": [],
   "source": [
    "# Compute the gradient in x, y and t direction\n",
    "Vx = V[1:, :, :] - V[0:-1, :, :]\n",
    "Vy = V[:, 1:, :] - V[:, 0:-1, :]\n",
    "Vt = V[:, :, 1:] - V[:, :, 0:-1]\n",
    "Vx.shape, Vy.shape, Vt.shape"
   ]
  },
  {
   "cell_type": "code",
   "execution_count": null,
   "metadata": {},
   "outputs": [],
   "source": [
    "# Select some images\n",
    "indexes = [0, 10, 20]\n",
    "\n",
    "# Show gradient images\n",
    "for i in indexes:\n",
    "    fig, ax = plt.subplots(1, 3, figsize=(15, 5))\n",
    "    plt.title('frame {}'.format(i))\n",
    "    ax[0].imshow(Vx[:, :, i], cmap='gray')\n",
    "    ax[0].set_title('Vx')\n",
    "    ax[1].imshow(Vy[:, :, i], cmap='gray')\n",
    "    ax[1].set_title('Vy')\n",
    "    ax[2].imshow(Vt[:, :, i], cmap='gray')\n",
    "    ax[2].set_title('Vt')\n",
    "    fig.suptitle('frame {}'.format(i))\n",
    "    plt.show()"
   ]
  },
  {
   "cell_type": "markdown",
   "metadata": {},
   "source": [
    "## Problem 2.2 - Simple Gradient Filters:"
   ]
  },
  {
   "cell_type": "markdown",
   "metadata": {},
   "source": [
    "### The kernel"
   ]
  },
  {
   "cell_type": "code",
   "execution_count": null,
   "metadata": {},
   "outputs": [],
   "source": [
    "# Not sure actually...\n",
    "prewitt_h_kernel = np.array([\n",
    "    [-1, 0, 1],\n",
    "    [-1, 0, 1],\n",
    "    [-1, 0, 1]\n",
    "])\n",
    "prewitt_v_kernel = np.array([\n",
    "    [-1, -1, -1],\n",
    "    [0, 0, 0],\n",
    "    [1, 1, 1]\n",
    "])\n",
    "\n",
    "prewitt_h_kernel, prewitt_v_kernel"
   ]
  },
  {
   "cell_type": "code",
   "execution_count": null,
   "metadata": {},
   "outputs": [],
   "source": [
    "# Select some images\n",
    "indexes = [0, 10, 20]\n",
    "\n",
    "# Show gradient images\n",
    "for i in indexes:    \n",
    "    fig, ax = plt.subplots(1, 3, figsize=(15, 5))\n",
    "    plt.title('frame {}'.format(i))\n",
    "    ax[0].imshow(ims[i], cmap='gray')\n",
    "    ax[0].set_title('Original')\n",
    "    ax[1].imshow(scipy.ndimage.prewitt(ims[i], axis=0), cmap='gray')\n",
    "    ax[1].set_title('Prewitt horizontal')\n",
    "    ax[2].imshow(scipy.ndimage.prewitt(ims[i], axis=1), cmap='gray')\n",
    "    ax[2].set_title('Prewitt vertical')\n",
    "    fig.suptitle('frame {}'.format(i))\n",
    "    plt.show()"
   ]
  },
  {
   "cell_type": "code",
   "execution_count": null,
   "metadata": {},
   "outputs": [],
   "source": [
    "# default is axis=-1 meaning the last axis\n",
    "\n",
    "# Select some images\n",
    "indexes = [0, 10, 20]\n",
    "\n",
    "# Show gradient images\n",
    "for i in indexes:    \n",
    "    fig, ax = plt.subplots(1, 3, figsize=(15, 5))\n",
    "    plt.title('frame {}'.format(i))\n",
    "    ax[0].imshow(ims[i], cmap='gray')\n",
    "    ax[0].set_title('Original')\n",
    "    ax[1].imshow(scipy.ndimage.sobel(ims[i], axis=0), cmap='gray')\n",
    "    ax[1].set_title('Sobel horizontal')\n",
    "    ax[2].imshow(scipy.ndimage.sobel(ims[i], axis=1), cmap='gray')\n",
    "    ax[2].set_title('Sobel vertical')\n",
    "    fig.suptitle('frame {}'.format(i))\n",
    "    plt.show()"
   ]
  },
  {
   "cell_type": "code",
   "execution_count": null,
   "metadata": {},
   "outputs": [],
   "source": [
    "# Not sure actually...\n",
    "sobel_h_kernel = np.array([\n",
    "    [-1, 0, 1],\n",
    "    [-2, 0, 2],\n",
    "    [-1, 0, 1]\n",
    "])\n",
    "sobel_v_kernel = np.array([\n",
    "    [-1, -2, -1],\n",
    "    [0, 0, 0],\n",
    "    [1, 2, 1]\n",
    "])"
   ]
  },
  {
   "cell_type": "markdown",
   "metadata": {},
   "source": [
    "Both give vertical gradient."
   ]
  },
  {
   "cell_type": "code",
   "execution_count": null,
   "metadata": {},
   "outputs": [],
   "source": [
    "# TODO How do you flip the kernel to be in other directions? (what do you mean by flip?)\n",
    "prewitt_im = scipy.ndimage.prewitt(ims[0][::-1,::-1])[::-1,::-1]\n",
    "plt.imshow(prewitt_im, cmap='gray')\n",
    "plt.show()"
   ]
  },
  {
   "cell_type": "code",
   "execution_count": null,
   "metadata": {},
   "outputs": [],
   "source": [
    "# fliped_prewitt_kernel\n",
    "fliped_prewitt_kernel = np.array([\n",
    "    [-1, 0, 1],\n",
    "    [-1, 0, 1],\n",
    "    [-1, 0, 1]\n",
    "])\n",
    "flipped_prewitt_im = scipy.ndimage.convolve(ims[0], fliped_prewitt_kernel)\n",
    "plt.imshow(flipped_prewitt_im, cmap='gray')\n",
    "plt.show()"
   ]
  },
  {
   "cell_type": "code",
   "execution_count": null,
   "metadata": {},
   "outputs": [],
   "source": [
    "# fliped_sobel_kernel\n",
    "fliped_sobel_kernel = np.array([\n",
    "    [1, 2, 1],\n",
    "    [-2, 0, 2],\n",
    "    [-1, 0, 1]\n",
    "])"
   ]
  },
  {
   "cell_type": "markdown",
   "metadata": {},
   "source": [
    "### Image filtering:"
   ]
  },
  {
   "cell_type": "code",
   "execution_count": null,
   "metadata": {},
   "outputs": [],
   "source": [
    "Vx_prewitt = scipy.ndimage.prewitt(V, axis=0)\n",
    "Vy_prewitt = scipy.ndimage.prewitt(V, axis=1)\n",
    "Vt_prewitt = scipy.ndimage.prewitt(V, axis=2)\n",
    "for i in indexes:\n",
    "    fig, ax = plt.subplots(1, 3, figsize=(15, 5))\n",
    "    plt.title('frame {}'.format(i))\n",
    "    ax[0].imshow(Vx_prewitt[:, :, i], cmap='gray')\n",
    "    ax[0].set_title('Vx_prewitt')\n",
    "    ax[1].imshow(Vy_prewitt[:, :, i], cmap='gray')\n",
    "    ax[1].set_title('Vy_prewitt')\n",
    "    ax[2].imshow(Vt_prewitt[:, :, i], cmap='gray')\n",
    "    ax[2].set_title('Vt_prewitt')\n",
    "    fig.suptitle('frame {}'.format(i))\n",
    "    plt.show()"
   ]
  },
  {
   "cell_type": "markdown",
   "metadata": {},
   "source": [
    "## Problem 2.3 - Gaussian Gradient Filters:"
   ]
  },
  {
   "cell_type": "markdown",
   "metadata": {},
   "source": [
    "$$\n",
    "G(x,y,z) = \\frac{1}{(2 \\pi \\sigma^{2})^\\frac{3}{2}}e^{- \\frac{x^{2}+y^{2}+z^{2}}{2\\sigma^{2}} }\n",
    "$$"
   ]
  },
  {
   "cell_type": "code",
   "execution_count": null,
   "metadata": {},
   "outputs": [],
   "source": [
    "# from sympy import *\n",
    "# init_printing()\n",
    "# x, y, z, sigma = symbols('x y z sigma')\n",
    "# # gaussian\n",
    "# G_xy = exp(-(x**2 + y**2)/(2*sigma**2)) / (2*pi*sigma**2)\n",
    "# #diff(G_xy,x)\n",
    "# G_xyz = exp(-(x**2 + y**2 + z**2)/(2*sigma**2)) / (2*pi*sigma**2)**(S(3)/2)\n",
    "# G_xyz, diff(G_xyz,x), diff(G_xyz,y), diff(G_xyz,z)"
   ]
  },
  {
   "cell_type": "code",
   "execution_count": null,
   "metadata": {},
   "outputs": [],
   "source": [
    "# Gaussian filter\n",
    "sigma = 1\n",
    "gaussian_V = scipy.ndimage.gaussian_filter(V, sigma, order=1)\n",
    "%matplotlib qt\n",
    "# for i in range(gaussian_V.shape[2]):\n",
    "#     plt.imshow(gaussian_V[:,:,i], cmap='gray')\n",
    "#     plt.pause(0.1)\n",
    "%matplotlib inline\n",
    "Vx_gaussian = scipy.ndimage.gaussian_filter(V, sigma, order=1, axes=0)\n",
    "Vy_gaussian = scipy.ndimage.gaussian_filter(V, sigma, order=1, axes=1)\n",
    "Vt_gaussian = scipy.ndimage.gaussian_filter(V, sigma, order=1, axes=2)\n",
    "Vx_gaussian.shape, Vy_gaussian.shape, Vt_gaussian.shape"
   ]
  },
  {
   "cell_type": "code",
   "execution_count": null,
   "metadata": {},
   "outputs": [],
   "source": [
    "gaussian_V.shape"
   ]
  },
  {
   "cell_type": "code",
   "execution_count": null,
   "metadata": {},
   "outputs": [],
   "source": [
    "# # illustrate gaussian_V in different axes\n",
    "# %matplotlib qt\n",
    "# for t in range(64):\n",
    "#     plt.imshow(Vx_gaussian[:,:,t], cmap='gray')\n",
    "#     plt.pause(0.1)\n",
    "# %matplotlib inline"
   ]
  },
  {
   "cell_type": "markdown",
   "metadata": {},
   "source": [
    "## Problem 3.1 - Local and low level solution:"
   ]
  },
  {
   "cell_type": "code",
   "execution_count": null,
   "metadata": {},
   "outputs": [],
   "source": [
    "x,y,t = [random.randint(0,V.shape[i]) for i in range(3)]\n",
    "# N is not the same as stated in the question\n",
    "N = int(5*sigma//2)\n",
    "im = ims[t]\n",
    "x_lower, x_upper = np.maximum(0, x-N), np.minimum(im.shape[0], x+N+1)\n",
    "y_lower, y_upper = np.maximum(0, y-N), np.minimum(im.shape[1], y+N+1)\n",
    "\n",
    "plt.imshow(im[x_lower:x_upper, y_lower:y_upper],cmap='gray')\n",
    "plt.show()"
   ]
  },
  {
   "cell_type": "code",
   "execution_count": null,
   "metadata": {},
   "outputs": [],
   "source": [
    "Vx_col = Vx_gaussian[x_lower:x_upper, y_lower:y_upper, t].reshape(-1,1)\n",
    "Vy_col = Vy_gaussian[x_lower:x_upper, y_lower:y_upper, t].reshape(-1,1)\n",
    "A = np.hstack([Vx_col, Vy_col])\n",
    "b = -Vt[x_lower:x_upper, y_lower:y_upper, t].reshape(-1,1)\n",
    "A.shape, b.shape"
   ]
  },
  {
   "cell_type": "code",
   "execution_count": null,
   "metadata": {},
   "outputs": [],
   "source": [
    "dp, _residuals, _rank, _s = np.linalg.lstsq(A, b, rcond=None)\n",
    "plt.imshow(im[x_lower:x_upper, y_lower:y_upper], cmap='gray')\n",
    "plt.quiver(x-x_lower,y-y_lower,dp[0, 0],dp[1, 0], color='r', scale=10, width=.003)\n",
    "plt.show()"
   ]
  },
  {
   "cell_type": "code",
   "execution_count": null,
   "metadata": {},
   "outputs": [],
   "source": [
    "## choose kernel size\n",
    "N = int(5*sigma//2)\n",
    "step_size = 10\n",
    "t = 1\n",
    "\n",
    "im = ims[t]\n",
    "plt.imshow(im, cmap='gray')\n",
    "for x in range(0,im.shape[0],step_size):\n",
    "    for y in range(0,im.shape[1],step_size):\n",
    "        x_lower, x_upper = np.maximum(0, x-N), np.minimum(im.shape[0], x+N+1)\n",
    "        y_lower, y_upper = np.maximum(0, y-N), np.minimum(im.shape[1], y+N+1)\n",
    "        Vx_col = Vx_gaussian[x_lower:x_upper, y_lower:y_upper, t].reshape(-1,1)\n",
    "        Vy_col = Vy_gaussian[x_lower:x_upper, y_lower:y_upper, t].reshape(-1,1)\n",
    "        # print(x,y,x_lower,x_upper,y_lower,y_upper, Vx_col.shape, Vy_col.shape)\n",
    "        A = np.hstack([Vx_col, Vy_col])\n",
    "        b = -Vt_gaussian[x_lower:x_upper, y_lower:y_upper, t].reshape(-1,1)\n",
    "        dp = np.linalg.lstsq(A, b, rcond=None)[0]\n",
    "        dx, dy = dp[0, 0], dp[1, 0]\n",
    "        plt.quiver(y, x, dx, dy, color='r', scale=50, width=.003)"
   ]
  },
  {
   "cell_type": "code",
   "execution_count": null,
   "metadata": {},
   "outputs": [],
   "source": [
    "## choose kernel size\n",
    "N = int(5*sigma//2)\n",
    "step_size = 5\n",
    "\n",
    "%matplotlib qt\n",
    "for t in range(10):\n",
    "    im = ims[t]\n",
    "    plt.imshow(im, cmap='gray')\n",
    "    for x in range(0,im.shape[0],step_size):\n",
    "        for y in range(0,im.shape[1],step_size):\n",
    "            x_lower, x_upper = np.maximum(0, x-N), np.minimum(im.shape[0], x+N+1)\n",
    "            y_lower, y_upper = np.maximum(0, y-N), np.minimum(im.shape[1], y+N+1)\n",
    "            # Vx_col = Vx_gaussian[x_lower:x_upper, y_lower:y_upper, t].reshape(-1,1)\n",
    "            # Vy_col = Vy_gaussian[x_lower:x_upper, y_lower:y_upper, t].reshape(-1,1)\n",
    "            Vx_col = Vx_gaussian[x_lower:x_upper, y_lower:y_upper, t].flatten()\n",
    "            Vy_col = Vy_gaussian[x_lower:x_upper, y_lower:y_upper, t].flatten()\n",
    "            # print(x,y,x_lower,x_upper,y_lower,y_upper, Vx_col.shape, Vy_col.shape)\n",
    "            A = np.column_stack([Vx_col, Vy_col])\n",
    "            b = -Vt_gaussian[x_lower:x_upper, y_lower:y_upper, t].reshape(-1,1)\n",
    "            dp = np.linalg.lstsq(A, b, rcond=None)[0]\n",
    "            dx, dy = dp[0, 0], dp[1, 0]\n",
    "            plt.quiver(x, y, dx, dy, color='r', scale=500, width=.003)#, width = 0.05, headwidth=.1, headlength=.1)\n",
    "            # plt.arrow(x,y,dx,dy, width = 0.05, head_width=2, head_length=2)\n",
    "    plt.show()\n",
    "    plt.pause(0.1)\n",
    "    plt.clf()\n",
    "#plt.close()\n",
    "%matplotlib inline"
   ]
  },
  {
   "cell_type": "code",
   "execution_count": null,
   "metadata": {},
   "outputs": [],
   "source": [
    "## testing 123\n",
    "## choose kernel size\n",
    "N = int(5*sigma//2)\n",
    "step_size = 1\n",
    "dps = np.empty((2, V.shape[0]*V.shape[1], V.shape[2]))\n",
    "%matplotlib qt\n",
    "for t in range(1):\n",
    "    im = ims[t]\n",
    "    plt.imshow(im, cmap='gray')\n",
    "    i = 0\n",
    "    for x in range(0,im.shape[0],step_size):\n",
    "        for y in range(0,im.shape[1],step_size):\n",
    "            x_lower, x_upper = np.maximum(0, x-N), np.minimum(im.shape[0], x+N+1)\n",
    "            y_lower, y_upper = np.maximum(0, y-N), np.minimum(im.shape[1], y+N+1)\n",
    "            # Vx_col = Vx_gaussian[x_lower:x_upper, y_lower:y_upper, t].reshape(-1,1)\n",
    "            # Vy_col = Vy_gaussian[x_lower:x_upper, y_lower:y_upper, t].reshape(-1,1)\n",
    "            Vx_col = Vx_gaussian[x_lower:x_upper, y_lower:y_upper, t].flatten()\n",
    "            Vy_col = Vy_gaussian[x_lower:x_upper, y_lower:y_upper, t].flatten()\n",
    "            # print(x,y,x_lower,x_upper,y_lower,y_upper, Vx_col.shape, Vy_col.shape)\n",
    "            A = np.column_stack([Vx_col, Vy_col])\n",
    "            b = -Vt_gaussian[x_lower:x_upper, y_lower:y_upper, t].reshape(-1,1)\n",
    "            dp = np.linalg.lstsq(A, b, rcond=None)[0].flatten()\n",
    "            dps[:, i, t] = dp\n",
    "            i += 1\n",
    "            # dx, dy = dp[0, 0], dp[1, 0]\n",
    "            # plt.quiver(x, y, dx, dy, color='r', scale=20, width=.003)\n",
    "    #plt.show()\n",
    "    #plt.pause(0.1)\n",
    "    #plt.clf()\n",
    "#plt.close()\n",
    "%matplotlib inline"
   ]
  },
  {
   "cell_type": "code",
   "execution_count": null,
   "metadata": {},
   "outputs": [],
   "source": [
    "X, Y = np.meshgrid(np.arange(0,im.shape[0],step_size), np.arange(0,im.shape[0],step_size))\n",
    "\n",
    "for t in range(1):\n",
    "    plt.quiver(X,Y,dps[0,:,t],dps[1,:,t],scale=1000/N)\n",
    "    plt.imshow(ims[t], cmap='gray')\n",
    "    plt.show()"
   ]
  },
  {
   "cell_type": "code",
   "execution_count": null,
   "metadata": {},
   "outputs": [],
   "source": [
    "X,Y"
   ]
  },
  {
   "cell_type": "code",
   "execution_count": null,
   "metadata": {},
   "outputs": [],
   "source": [
    "# import av\n",
    "# container = av.open(r\"C:\\Users\\ivanf\\OneDrive\\Skrivebord\\toyProblem_F22\\VID_20240202_223140.mp4\")\n",
    "# \n",
    "# for frame in container.decode(video=0):\n",
    "#     frame.to_image().save('videoframe-%04d.png' % frame.index)"
   ]
  },
  {
   "cell_type": "code",
   "execution_count": null,
   "metadata": {},
   "outputs": [],
   "source": [
    "# paper_pngs = glob.glob('videoframe-*.png')\n",
    "# # make image list\n",
    "# ims = []\n",
    "# for i in paper_pngs:\n",
    "#     ims.append(skimage.color.rgb2gray(plt.imread(i)))\n",
    "# \n",
    "# # make image array\n",
    "# V = np.dstack(ims)\n",
    "# V.shape\n",
    "# %matplotlib inline\n",
    "# plt.imshow(ims[20], cmap='gray')\n",
    "# plt.show()\n",
    "# plt.imshow(gaussian_V[:,:,20], cmap='gray')\n",
    "# plt.show()\n",
    "# # Gaussian filter\n",
    "# sigma = 0.5\n",
    "# gaussian_V = scipy.ndimage.gaussian_filter(V, sigma, order=1)\n",
    "# %matplotlib qt\n",
    "# # for i in range(gaussian_V.shape[2]):\n",
    "# #     plt.imshow(gaussian_V[:,:,i], cmap='gray')\n",
    "# #     plt.pause(0.1)\n",
    "# %matplotlib inline\n",
    "# Vx_gaussian = scipy.ndimage.gaussian_filter(V, sigma, order=1, axes=0)\n",
    "# Vy_gaussian = scipy.ndimage.gaussian_filter(V, sigma, order=1, axes=1)\n",
    "# Vt_gaussian = scipy.ndimage.gaussian_filter(V, sigma, order=1, axes=2)\n",
    "# Vx_gaussian.shape, Vy_gaussian.shape, Vt_gaussian.shape\n",
    "# %matplotlib qt\n",
    "# for i in range(70,100):\n",
    "#     plt.imshow(gaussian_V[:,:,i], cmap='gray')\n",
    "#     plt.pause(0.1)\n",
    "# %matplotlib inline\n",
    "# for i in range(gaussian_V.shape[2]):\n",
    "#     plt.imshow(gaussian_V[:,:,i], cmap='gray')\n",
    "#     plt.pause(0.1)"
   ]
  }
 ],
 "metadata": {
  "kernelspec": {
   "display_name": "Python 3",
   "language": "python",
   "name": "python3"
  },
  "language_info": {
   "codemirror_mode": {
    "name": "ipython",
    "version": 3
   },
   "file_extension": ".py",
   "mimetype": "text/x-python",
   "name": "python",
   "nbconvert_exporter": "python",
   "pygments_lexer": "ipython3",
   "version": "3.11.7"
  }
 },
 "nbformat": 4,
 "nbformat_minor": 2
}
