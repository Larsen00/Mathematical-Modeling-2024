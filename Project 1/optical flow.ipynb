{
 "cells": [
  {
   "cell_type": "code",
   "execution_count": 3,
   "metadata": {},
   "outputs": [],
   "source": [
    "import glob\n",
    "import skimage\n",
    "import matplotlib\n",
    "import matplotlib.pyplot as plt\n",
    "import numpy as np\n",
    "import scipy\n",
    "from sympy import *\n",
    "pngs = glob.glob('toyProblem_F22/frame_*.png')"
   ]
  },
  {
   "cell_type": "markdown",
   "metadata": {},
   "source": [
    "\n"
   ]
  },
  {
   "cell_type": "code",
   "execution_count": null,
   "metadata": {},
   "outputs": [],
   "source": [
    "x= symbols('c')\n",
    "np.exp((x-162.9)solve(Eq(exp((252*x-4263.84)/8978),1),x))"
   ]
  },
  {
   "cell_type": "code",
   "execution_count": 33,
   "metadata": {},
   "outputs": [
    {
     "name": "stdout",
     "output_type": "stream",
     "text": [
      "skimage version: 0.22.0\n",
      "matplotlib version: 3.6.3\n",
      "numpy version: 1.26.3\n",
      "scipy version: 1.12.0\n"
     ]
    }
   ],
   "source": [
    "print(f\"skimage version: {skimage.__version__}\")\n",
    "print(f\"matplotlib version: {matplotlib.__version__}\")\n",
    "print(f\"numpy version: {np.__version__}\")\n",
    "print(f\"scipy version: {scipy.__version__}\")"
   ]
  },
  {
   "cell_type": "markdown",
   "metadata": {},
   "source": [
    "# Problem 1 - Loading and displaying a toy problem:"
   ]
  },
  {
   "cell_type": "markdown",
   "metadata": {},
   "source": [
    "> When images are read, it is read as (y,x) instead of (x,y). "
   ]
  },
  {
   "cell_type": "code",
   "execution_count": null,
   "metadata": {},
   "outputs": [],
   "source": [
    "# make image list\n",
    "ims_with_color = []\n",
    "ims = []\n",
    "for i in pngs:\n",
    "    # read in image in grayscale\n",
    "    ims_with_color.append(plt.imread(i))\n",
    "    # read in image in grayscale\n",
    "    ims.append(skimage.color.rgb2gray(plt.imread(i)))\n",
    "\n",
    "# make image array\n",
    "V = np.dstack(ims)\n",
    "V.shape"
   ]
  },
  {
   "cell_type": "code",
   "execution_count": null,
   "metadata": {},
   "outputs": [],
   "source": [
    "# animation of images in an qt window\n",
    "%matplotlib qt\n",
    "for im in ims:\n",
    "    plt.imshow(im, cmap='gray')\n",
    "    plt.pause(0.1)\n",
    "%matplotlib inline"
   ]
  },
  {
   "cell_type": "markdown",
   "metadata": {},
   "source": [
    "# Problem 2.1 - Low level gradient calculation:"
   ]
  },
  {
   "cell_type": "code",
   "execution_count": null,
   "metadata": {},
   "outputs": [],
   "source": [
    "# Compute the low level gradient in x, y and t direction\n",
    "Vy = V[1:, :, :] - V[0:-1, :, :]\n",
    "Vx = V[:, 1:, :] - V[:, 0:-1, :]\n",
    "Vt = V[:, :, 1:] - V[:, :, 0:-1]\n",
    "Vx.shape, Vy.shape, Vt.shape"
   ]
  },
  {
   "cell_type": "code",
   "execution_count": null,
   "metadata": {},
   "outputs": [],
   "source": [
    "# Select some images\n",
    "indexes = [0, 10, 20]\n",
    "\n",
    "# Show gradient images\n",
    "for i in indexes:\n",
    "    fig, ax = plt.subplots(1, 3, figsize=(15, 5))\n",
    "    plt.title('frame {}'.format(i))\n",
    "    ax[0].imshow(Vx[:, :, i], cmap='gray')\n",
    "    ax[0].set_title('Vx')\n",
    "    ax[1].imshow(Vy[:, :, i], cmap='gray')\n",
    "    ax[1].set_title('Vy')\n",
    "    ax[2].imshow(Vt[:, :, i], cmap='gray')\n",
    "    ax[2].set_title('Vt')\n",
    "    fig.suptitle('frame {}'.format(i))\n",
    "    plt.show()"
   ]
  },
  {
   "cell_type": "markdown",
   "metadata": {},
   "source": [
    "# Problem 2.2 - Simple Gradient Filters:"
   ]
  },
  {
   "cell_type": "markdown",
   "metadata": {},
   "source": [
    "## The kernel"
   ]
  },
  {
   "cell_type": "code",
   "execution_count": null,
   "metadata": {},
   "outputs": [],
   "source": [
    "prewitt_h_kernel = np.array([\n",
    "    [-1, 0, 1],\n",
    "    [-1, 0, 1],\n",
    "    [-1, 0, 1]\n",
    "])\n",
    "prewitt_v_kernel = np.array([\n",
    "    [-1, -1, -1],\n",
    "    [0, 0, 0],\n",
    "    [1, 1, 1]\n",
    "])\n",
    "\n",
    "prewitt_h_kernel, prewitt_v_kernel"
   ]
  },
  {
   "cell_type": "code",
   "execution_count": null,
   "metadata": {},
   "outputs": [],
   "source": [
    "# Select some images\n",
    "indexes = [0, 10, 20]\n",
    "\n",
    "# Show gradient images\n",
    "for i in indexes:    \n",
    "    fig, ax = plt.subplots(1, 3, figsize=(15, 5))\n",
    "    plt.title('frame {}'.format(i))\n",
    "    ax[0].imshow(ims[i], cmap='gray')\n",
    "    ax[0].set_title('Original')\n",
    "    ax[1].imshow(scipy.ndimage.prewitt(ims[i], axis=1), cmap='gray')\n",
    "    ax[1].set_title('Prewitt horizontal')\n",
    "    ax[2].imshow(scipy.ndimage.prewitt(ims[i], axis=0), cmap='gray')\n",
    "    ax[2].set_title('Prewitt vertical')\n",
    "    fig.suptitle('frame {}'.format(i))\n",
    "    plt.show()"
   ]
  },
  {
   "cell_type": "code",
   "execution_count": null,
   "metadata": {},
   "outputs": [],
   "source": [
    "# Select some images\n",
    "indexes = [0, 10, 20]\n",
    "\n",
    "# Show gradient images\n",
    "for i in indexes:    \n",
    "    fig, ax = plt.subplots(1, 3, figsize=(15, 5))\n",
    "    plt.title('frame {}'.format(i))\n",
    "    ax[0].imshow(ims[i], cmap='gray')\n",
    "    ax[0].set_title('Original')\n",
    "    ax[1].imshow(scipy.ndimage.sobel(ims[i], axis=0), cmap='gray')\n",
    "    ax[1].set_title('Sobel horizontal')\n",
    "    ax[2].imshow(scipy.ndimage.sobel(ims[i], axis=1), cmap='gray')\n",
    "    ax[2].set_title('Sobel vertical')\n",
    "    fig.suptitle('frame {}'.format(i))\n",
    "    plt.show()"
   ]
  },
  {
   "cell_type": "code",
   "execution_count": null,
   "metadata": {},
   "outputs": [],
   "source": [
    "sobel_h_kernel = np.array([\n",
    "    [-1, 0, 1],\n",
    "    [-2, 0, 2],\n",
    "    [-1, 0, 1]\n",
    "])\n",
    "sobel_v_kernel = np.array([\n",
    "    [-1, -2, -1],\n",
    "    [0, 0, 0],\n",
    "    [1, 2, 1]\n",
    "])"
   ]
  },
  {
   "cell_type": "markdown",
   "metadata": {},
   "source": [
    "Both give vertical gradient."
   ]
  },
  {
   "cell_type": "markdown",
   "metadata": {},
   "source": [
    "## Image filtering:"
   ]
  },
  {
   "cell_type": "code",
   "execution_count": null,
   "metadata": {},
   "outputs": [],
   "source": [
    "# Apply prewitt filter to the video along the x, y and t axis\n",
    "Vx_prewitt = scipy.ndimage.prewitt(V, axis=1)\n",
    "Vy_prewitt = scipy.ndimage.prewitt(V, axis=0)\n",
    "Vt_prewitt = scipy.ndimage.prewitt(V, axis=2)\n",
    "for i in indexes:\n",
    "    fig, ax = plt.subplots(1, 3, figsize=(15, 5))\n",
    "    plt.title('frame {}'.format(i))\n",
    "    ax[0].imshow(Vx_prewitt[:, :, i], cmap='gray')\n",
    "    ax[0].set_title('Vx_prewitt')\n",
    "    ax[1].imshow(Vy_prewitt[:, :, i], cmap='gray')\n",
    "    ax[1].set_title('Vy_prewitt')\n",
    "    ax[2].imshow(Vt_prewitt[:, :, i], cmap='gray')\n",
    "    ax[2].set_title('Vt_prewitt')\n",
    "    fig.suptitle('frame {}'.format(i))\n",
    "    plt.show()"
   ]
  },
  {
   "cell_type": "markdown",
   "metadata": {},
   "source": [
    "# Problem 2.3 - Gaussian Gradient Filters:"
   ]
  },
  {
   "cell_type": "markdown",
   "metadata": {},
   "source": [
    "$$\n",
    "G(x,y,z) = \\frac{1}{(2 \\pi \\sigma^{2})^\\frac{3}{2}}e^{- \\frac{x^{2}+y^{2}+z^{2}}{2\\sigma^{2}} }\n",
    "$$"
   ]
  },
  {
   "cell_type": "code",
   "execution_count": null,
   "metadata": {},
   "outputs": [],
   "source": [
    "# Gaussian filter\n",
    "sigma = 1\n",
    "gaussian_V = scipy.ndimage.gaussian_filter(V, sigma, order=1)\n",
    "\n",
    "# animation of images in an qt window\n",
    "%matplotlib qt\n",
    "for i in range(gaussian_V.shape[2]):\n",
    "    plt.imshow(gaussian_V[:,:,i], cmap='gray')\n",
    "    plt.pause(0.1)\n",
    "%matplotlib inline\n",
    "\n",
    "# Apply first derivative gaussian filter to the video along the x, y and t axis\n",
    "Vx_gaussian = scipy.ndimage.gaussian_filter(V, sigma, order=1, axes=1)\n",
    "Vy_gaussian = scipy.ndimage.gaussian_filter(V, sigma, order=1, axes=0)\n",
    "Vt_gaussian = scipy.ndimage.gaussian_filter(V, sigma, order=1, axes=2)\n",
    "Vx_gaussian.shape, Vy_gaussian.shape, Vt_gaussian.shape"
   ]
  },
  {
   "cell_type": "code",
   "execution_count": null,
   "metadata": {},
   "outputs": [],
   "source": [
    "# Select some images\n",
    "indexes = [0,10,20]\n",
    "\n",
    "# Select standard deviation\n",
    "sigma = 1\n",
    "\n",
    "# Show first derivative gaussian filter\n",
    "for i in indexes:\n",
    "    fig, ax = plt.subplots(1, 3, figsize=(15, 5))\n",
    "    plt.title('frame {}'.format(i))\n",
    "    ax[0].imshow(Vx_gaussian[:, :, i], cmap='gray')\n",
    "    ax[0].set_title('Vx_gaussian')\n",
    "    ax[1].imshow(Vy_gaussian[:, :, i], cmap='gray')\n",
    "    ax[1].set_title('Vy_gaussian')\n",
    "    ax[2].imshow(Vt_gaussian[:, :, i], cmap='gray')\n",
    "    ax[2].set_title('Vt_gaussian')\n",
    "    fig.suptitle('frame {} with sigma {}'.format(i, sigma))\n",
    "    plt.show()"
   ]
  },
  {
   "cell_type": "code",
   "execution_count": null,
   "metadata": {},
   "outputs": [],
   "source": [
    "# Select some images\n",
    "indexes = [0,10,20]\n",
    "\n",
    "# Select another standard deviation\n",
    "sigma = 0.5\n",
    "\n",
    "# Show first derivative gaussian filter\n",
    "for i in indexes:\n",
    "    fig, ax = plt.subplots(1, 3, figsize=(15, 5))\n",
    "    plt.title('frame {}'.format(i))\n",
    "    ax[0].imshow(Vx_gaussian[:, :, i], cmap='gray')\n",
    "    ax[0].set_title('Vx_gaussian')\n",
    "    ax[1].imshow(Vy_gaussian[:, :, i], cmap='gray')\n",
    "    ax[1].set_title('Vy_gaussian')\n",
    "    ax[2].imshow(Vt_gaussian[:, :, i], cmap='gray')\n",
    "    ax[2].set_title('Vt_gaussian')\n",
    "    fig.suptitle('frame {} with sigma {}'.format(i, sigma))\n",
    "    plt.show()"
   ]
  },
  {
   "cell_type": "markdown",
   "metadata": {},
   "source": [
    "# Problem 3.1 - Local and low level solution:"
   ]
  },
  {
   "cell_type": "code",
   "execution_count": null,
   "metadata": {},
   "outputs": [],
   "source": [
    "# Select pixel located in (10,10,10)\n",
    "\n",
    "x,y,t = [10,10,10]\n",
    "# N * N is the size of the region, n is a helper variable\n",
    "N = 5\n",
    "n = int((N-1)//2)\n",
    "\n",
    "# Show the region\n",
    "im = ims[t]\n",
    "x_lower, x_upper = np.maximum(0, x-n), np.minimum(im.shape[0], x+n+1)\n",
    "y_lower, y_upper = np.maximum(0, y-n), np.minimum(im.shape[1], y+n+1)\n",
    "plt.imshow(im[x_lower:x_upper, y_lower:y_upper],cmap='gray')\n",
    "plt.show()"
   ]
  },
  {
   "cell_type": "code",
   "execution_count": null,
   "metadata": {},
   "outputs": [],
   "source": [
    "# Lucas-Kanade solution\n",
    "Vx_col = Vx_gaussian[x_lower:x_upper, y_lower:y_upper, t].reshape(-1,1)\n",
    "Vy_col = Vy_gaussian[x_lower:x_upper, y_lower:y_upper, t].reshape(-1,1)\n",
    "A = np.hstack([Vx_col, Vy_col])\n",
    "b = -Vt_gaussian[x_lower:x_upper, y_lower:y_upper, t].reshape(-1,1)\n",
    "dp = np.linalg.lstsq(A, b, rcond=None)[0]\n",
    "# Show the optic flow in this pixel\n",
    "plt.imshow(im[x_lower:x_upper, y_lower:y_upper], cmap='gray')\n",
    "plt.quiver(x-x_lower,y-y_lower,dp[0, 0],dp[1, 0], color='r', scale=1, width=.03)\n",
    "plt.show()"
   ]
  },
  {
   "cell_type": "markdown",
   "metadata": {},
   "source": [
    "# Problem 3.2 - Apply densely to full volume:"
   ]
  },
  {
   "cell_type": "code",
   "execution_count": null,
   "metadata": {},
   "outputs": [],
   "source": [
    "# Apply Lucas-Kanade solution to one selected frame\n",
    "## choose kernel size N, step size(every n’th pixel is visited), and a frame in time 1.\n",
    "N = 5\n",
    "n = int((N-1)//2)\n",
    "step_size = 1\n",
    "t = 1\n",
    "\n",
    "# Apply de\n",
    "im = ims[t]\n",
    "dps_image = np.empty((2, V.shape[0], V.shape[1]))\n",
    "for x in range(0,V.shape[0],step_size):\n",
    "    for y in range(0,V.shape[1],step_size):\n",
    "        x_lower, x_upper = np.maximum(0, x-n), np.minimum(im.shape[0], x+n+1)\n",
    "        y_lower, y_upper = np.maximum(0, y-n), np.minimum(im.shape[1], y+n+1)\n",
    "        Vx_col = Vx_gaussian[x_lower:x_upper, y_lower:y_upper, t].reshape(-1,1)\n",
    "        Vy_col = Vy_gaussian[x_lower:x_upper, y_lower:y_upper, t].reshape(-1,1)\n",
    "        A = np.hstack([Vx_col, Vy_col])\n",
    "        b = -Vt_gaussian[x_lower:x_upper, y_lower:y_upper, t].reshape(-1,1)\n",
    "        dp = np.linalg.lstsq(A, b, rcond=None)[0]\n",
    "        dps_image[:,x,y] = dp[:,0]\n",
    "plt.imshow(im, cmap='gray')\n",
    "X, Y = np.meshgrid(np.arange(0, im.shape[0], step_size), np.arange(0, im.shape[1], step_size))\n",
    "plt.quiver(Y, X, dps_image[1,X,Y], dps_image[0,X,Y], scale=500, width=.003)"
   ]
  },
  {
   "cell_type": "code",
   "execution_count": null,
   "metadata": {},
   "outputs": [],
   "source": [
    "# Apply Lucas-Kanade solution to all frames\n",
    "string = input(\"It might take a long time to run this part... write \\\"y\\\" if you insist:\")\n",
    "if string == \"y\":\n",
    "    ## choose kernel size\n",
    "    N = 5\n",
    "    n = int((N-1)//2)\n",
    "    step_size = 1\n",
    "    t = 1\n",
    "\n",
    "    # initialize the arrow array\n",
    "    dps_images = np.empty((2, V.shape[0], V.shape[1], V.shape[2]))\n",
    "\n",
    "    # loop over all pixels in all frames\n",
    "    for t in range(V.shape[2]):\n",
    "        im = ims[t]\n",
    "        dps_image = np.empty((2, V.shape[0], V.shape[1]))\n",
    "        for x in range(0,V.shape[0],step_size):\n",
    "            for y in range(0,V.shape[1],step_size):\n",
    "                # Lucas-Kanade solution\n",
    "                x_lower, x_upper = np.maximum(0, x-n), np.minimum(im.shape[0], x+n+1)\n",
    "                y_lower, y_upper = np.maximum(0, y-n), np.minimum(im.shape[1], y+n+1)\n",
    "                Vx_col = Vx_gaussian[x_lower:x_upper, y_lower:y_upper, t].reshape(-1,1)\n",
    "                Vy_col = Vy_gaussian[x_lower:x_upper, y_lower:y_upper, t].reshape(-1,1)\n",
    "                A = np.hstack([Vx_col, Vy_col])\n",
    "                b = -Vt_gaussian[x_lower:x_upper, y_lower:y_upper, t].reshape(-1,1)\n",
    "                dp = np.linalg.lstsq(A, b, rcond=None)[0]\n",
    "                dps_image[:,x,y] = dp[:,0]\n",
    "        dps_images[:,:,:,t] = dps_image\n",
    "        print(t, end=' ')\n",
    "    \n",
    "    # A large numpy array will be saved to avoid running the code again\n",
    "    np.save(\"toy.npy\", dps_images)\n",
    "\n"
   ]
  },
  {
   "cell_type": "code",
   "execution_count": null,
   "metadata": {},
   "outputs": [],
   "source": [
    "# plot without filtering out noises\n",
    "dps_images = np.load(\"toy.npy\")\n",
    "X, Y = np.meshgrid(np.arange(0, im.shape[0], step_size), np.arange(0, im.shape[1], step_size))\n",
    "\n",
    "# animation of images in an qt window\n",
    "%matplotlib qt\n",
    "for t in range(V.shape[2]):\n",
    "    plt.imshow(V[:,:,t], cmap='gray')\n",
    "    plt.quiver(Y, X, dps_images[1,X,Y,t], dps_images[0,X,Y,t], color='r', scale=500, width=.003)\n",
    "    plt.pause(0.1)\n",
    "    plt.clf()\n",
    "%matplotlib inline"
   ]
  },
  {
   "cell_type": "code",
   "execution_count": null,
   "metadata": {},
   "outputs": [],
   "source": [
    "# Filter out noises by setting a threshold to the magnitude of the arrows\n",
    "\n",
    "# Prepare the array\n",
    "dps_images = np.load(\"toy.npy\")\n",
    "dps_images_filtered = dps_images.copy()\n",
    "\n",
    "# loop over all pixels in all frames\n",
    "for x in range(0,V.shape[0],step_size):\n",
    "  for y in range(0,V.shape[1],step_size):\n",
    "        for t in range(V.shape[2]):\n",
    "            ## filter out arrows with small magnitude (<= 5)\n",
    "            if np.linalg.norm(dps_images_filtered[:,x,y,t]) <= 5:\n",
    "                dps_images_filtered[:,x,y,t] = np.zeros(2)\n",
    "\n",
    "# A large numpy array will be saved to avoid running the code again\n",
    "np.save(\"toy_filtered.npy\", dps_images_filtered)"
   ]
  },
  {
   "cell_type": "code",
   "execution_count": null,
   "metadata": {},
   "outputs": [],
   "source": [
    "# plot images with filtered arrows\n",
    "dps_images_filtered = np.load(\"toy_filtered.npy\")\n",
    "step_size = 2\n",
    "X, Y = np.meshgrid(np.arange(0, V.shape[0], step_size), np.arange(0, V.shape[1], step_size))\n",
    "\n",
    "# animation of images in an qt window\n",
    "%matplotlib qt\n",
    "for t in range(V.shape[2]):\n",
    "    plt.imshow(ims_with_color[t])\n",
    "    plt.quiver(Y, X, dps_images_filtered[1,X,Y,t], dps_images_filtered[0,X,Y,t], scale=500, width=.003)\n",
    "    plt.pause(0.1)\n",
    "    plt.clf()\n",
    "%matplotlib inline"
   ]
  },
  {
   "cell_type": "markdown",
   "metadata": {},
   "source": [
    "# Appendix C: code for applying optical flow analysis on other videos."
   ]
  },
  {
   "cell_type": "markdown",
   "metadata": {},
   "source": [
    "## Convert a new video to image sequence:"
   ]
  },
  {
   "cell_type": "code",
   "execution_count": null,
   "metadata": {},
   "outputs": [],
   "source": [
    "import av\n",
    "container = av.open(r\"C:\\Users\\ivanf\\OneDrive\\VID_20240206_222634.mp4\")\n",
    "\n",
    "for frame in container.decode(video=0):\n",
    "    frame.to_image().save('videoframe-%04d.png' % frame.index)"
   ]
  },
  {
   "cell_type": "markdown",
   "metadata": {},
   "source": [
    "# Optical flow analysis"
   ]
  },
  {
   "cell_type": "markdown",
   "metadata": {},
   "source": [
    "(As applying optical flow analysis on the \"toilet paper\" images is somewhat the same as \"hand\" images, we will only attach code for \"toilet paper\" here.)\n",
    "\n",
    "The following code is applied to our new images sequences. It consists of \"flow1.py\" and \"flow2.py\". The first one is used to load the picture and apply first derivative gaussian filter on it and the second one is used to filter optical flow and display it:"
   ]
  },
  {
   "cell_type": "markdown",
   "metadata": {},
   "source": [
    "## flow1.py:"
   ]
  },
  {
   "cell_type": "code",
   "execution_count": null,
   "metadata": {},
   "outputs": [],
   "source": [
    "# Please run flow1.py then run flow2.py\n",
    "\n",
    "import glob\n",
    "import skimage\n",
    "import matplotlib.pyplot as plt\n",
    "import numpy as np\n",
    "import scipy\n",
    "\n",
    "path = r\".\\toilet-paper\"\n",
    "pngs = glob.glob(path + \"/*.png\")\n",
    "\n",
    "# make image list\n",
    "ims_with_color = []\n",
    "ims = []\n",
    "print(\"Reading images...\")\n",
    "for status, i in enumerate(pngs):\n",
    "    # read in image in grayscale\n",
    "    ims_with_color.append(plt.imread(i))\n",
    "    # read in image in grayscale\n",
    "    ims.append(skimage.color.rgb2gray(plt.imread(i)))\n",
    "    print(f\"Progress: {(status+1)/len(pngs)*100:.2f}%\", end=\"\\r\")\n",
    "\n",
    "# make image array\n",
    "V = np.dstack(ims)\n",
    "print(f\"Reading images done! {len(ims)} images read.\")\n",
    "\n",
    "# Gaussian filter\n",
    "print(\"Creating Gaussian filter...\")\n",
    "sigma = 1\n",
    "gaussian_V = scipy.ndimage.gaussian_filter(V, sigma, order=1)\n",
    "Vx_gaussian = scipy.ndimage.gaussian_filter(V, sigma, order=1, axes=1)\n",
    "Vy_gaussian = scipy.ndimage.gaussian_filter(V, sigma, order=1, axes=0)\n",
    "Vt_gaussian = scipy.ndimage.gaussian_filter(V, sigma, order=1, axes=2)\n",
    "print(\"Gaussian filter done!\")\n",
    "\n",
    "print(\"Calculating optical flow...\")\n",
    "N = 5\n",
    "n = int((N-1)//2)\n",
    "step_size = 3\n",
    "t = 1\n",
    "print(\"\\tPreallocating memory...\")\n",
    "dps_images = np.empty((2, V.shape[0], V.shape[1], V.shape[2]))\n",
    "print(\"\\tPreallocating memory done!\")\n",
    "total_volume = V.shape[0]*V.shape[1]*V.shape[2]\n",
    "for t in range(V.shape[2]):\n",
    "    im = ims[t]\n",
    "    dps_image = np.empty((2, V.shape[0], V.shape[1]))\n",
    "    for x in range(0,V.shape[0],step_size):\n",
    "        for y in range(0,V.shape[1],step_size):\n",
    "            x_lower, x_upper = np.maximum(0, x-n), np.minimum(im.shape[0], x+n+1)\n",
    "            y_lower, y_upper = np.maximum(0, y-n), np.minimum(im.shape[1], y+n+1)\n",
    "            Vx_col = Vx_gaussian[x_lower:x_upper, y_lower:y_upper, t].reshape(-1,1)\n",
    "            Vy_col = Vy_gaussian[x_lower:x_upper, y_lower:y_upper, t].reshape(-1,1)\n",
    "            A = np.hstack([Vx_col, Vy_col])\n",
    "            b = -Vt_gaussian[x_lower:x_upper, y_lower:y_upper, t].reshape(-1,1)\n",
    "            dp = np.linalg.lstsq(A, b, rcond=None)[0]\n",
    "            dps_image[:,x,y] = dp[:,0]\n",
    "            print(f\"Progress: {(t*V.shape[0]*V.shape[1] + x*V.shape[1] + y)/total_volume*100:.2f}%\", end=\"\\r\")\n",
    "    dps_images[:,:,:,t] = dps_image\n",
    "np.save(\"flow.npy\", dps_images)\n",
    "print(\"All Done! Program terminates.\")"
   ]
  },
  {
   "cell_type": "markdown",
   "metadata": {},
   "source": [
    "## flow2.py:"
   ]
  },
  {
   "cell_type": "code",
   "execution_count": null,
   "metadata": {},
   "outputs": [],
   "source": [
    "# Please run flow1.py then run flow2.py\n",
    "\n",
    "import glob\n",
    "import skimage\n",
    "import matplotlib.pyplot as plt\n",
    "import numpy as np\n",
    "\n",
    "step_size = 5\n",
    "\n",
    "path = r\".\\toilet-paper\"\n",
    "pngs = glob.glob(path + \"/*.png\")\n",
    "\n",
    "# make image list\n",
    "ims_with_color = []\n",
    "ims = []\n",
    "print(\"Reading images...\")\n",
    "for status, i in enumerate(pngs):\n",
    "    # read in image in grayscale\n",
    "    ims_with_color.append(plt.imread(i))\n",
    "    # read in image in grayscale\n",
    "    ims.append(skimage.color.rgb2gray(plt.imread(i)))\n",
    "    print(f\"Progress: {(status+1)/len(pngs)*100:.2f}%\", end=\"\\r\")\n",
    "\n",
    "# make image array\n",
    "V = np.dstack(ims)\n",
    "print(f\"Reading images done! {len(ims)} images read.\")\n",
    "\n",
    "print(\"Filtering out noises...\")\n",
    "# plot with filtering out noises\n",
    "dps_images = np.load(\"flow.npy\")\n",
    "dps_images_filtered = dps_images.copy()\n",
    "for x in range(0,V.shape[0],step_size):\n",
    "  for y in range(0,V.shape[1],step_size):\n",
    "        for t in range(V.shape[2]):\n",
    "            ## filter out arrows with small magnitude (<= 5)\n",
    "            if np.linalg.norm(dps_images_filtered[:,x,y,t]) <= 40 or np.linalg.norm(dps_images_filtered[:,x,y,t]) >= 60:\n",
    "                dps_images_filtered[:,x,y,t] = np.zeros(2)\n",
    "np.save(\"flow_filtered.npy\", dps_images_filtered)\n",
    "print(\"Filtering out noises done!\")\n",
    "\n",
    "print(\"Plotting...\")\n",
    "dps_images_filtered = np.load(\"flow_filtered.npy\")\n",
    "X, Y = np.meshgrid(np.arange(0, V.shape[0], step_size), np.arange(0, V.shape[1], step_size))\n",
    "for t in range(V.shape[2]):\n",
    "    plt.imshow(ims_with_color[t])\n",
    "    plt.quiver(Y, X, dps_images_filtered[1,X,Y,t], dps_images_filtered[0,X,Y,t], scale=700, width=.003)\n",
    "    #plt.pause(1)\n",
    "    plt.savefig('./toilet_paper_result/toilet_paper_with_quivers_%04d.png' % t)\n",
    "    plt.clf()\n",
    "print(\"Plotting done!\")"
   ]
  }
 ],
 "metadata": {
  "kernelspec": {
   "display_name": "Python 3",
   "language": "python",
   "name": "python3"
  },
  "language_info": {
   "codemirror_mode": {
    "name": "ipython",
    "version": 3
   },
   "file_extension": ".py",
   "mimetype": "text/x-python",
   "name": "python",
   "nbconvert_exporter": "python",
   "pygments_lexer": "ipython3",
   "version": "3.10.4"
  }
 },
 "nbformat": 4,
 "nbformat_minor": 2
}
