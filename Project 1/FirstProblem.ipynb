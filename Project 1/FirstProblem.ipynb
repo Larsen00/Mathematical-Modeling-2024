{
 "cells": [
  {
   "cell_type": "code",
   "execution_count": 1,
   "metadata": {},
   "outputs": [],
   "source": [
    "import numpy as numpy\n",
    "import scipy as sp\n",
    "import matplotlib as mplot\n",
    "import skimage as ski\n",
    "import os\n",
    "import glob as glob\n",
    "from skimage import io"
   ]
  },
  {
   "cell_type": "code",
   "execution_count": null,
   "metadata": {},
   "outputs": [],
   "source": [
    "dir = os.getcwd()\n",
    "dir = dir + \"/toyProblem_F22/\"\n",
    "print(dir)\n",
    "files = glob.glob(dir + \"*.png\")\n",
    "height, width, channels = ski.io.imread(files[0]).shape\n",
    "n_samples = len(files)\n",
    "n_features = height*width*channels\n",
    "data_matrix = numpy.zeros((n_samples, n_features))\n",
    "\n",
    "for idx, f in enumerate(files):\n",
    "    data_matrix[idx, :] = ski.io.imread(f).flatten()\n",
    "ski.color.rgb2gray(ski.io.imread(files))"
   ]
  }
 ],
 "metadata": {
  "kernelspec": {
   "display_name": "Python 3",
   "language": "python",
   "name": "python3"
  },
  "language_info": {
   "codemirror_mode": {
    "name": "ipython",
    "version": 3
   },
   "file_extension": ".py",
   "mimetype": "text/x-python",
   "name": "python",
   "nbconvert_exporter": "python",
   "pygments_lexer": "ipython3",
   "version": "3.10.4"
  }
 },
 "nbformat": 4,
 "nbformat_minor": 2
}
